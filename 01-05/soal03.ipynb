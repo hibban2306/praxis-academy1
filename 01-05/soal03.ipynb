{
 "metadata": {
  "language_info": {
   "codemirror_mode": {
    "name": "ipython",
    "version": 3
   },
   "file_extension": ".py",
   "mimetype": "text/x-python",
   "name": "python",
   "nbconvert_exporter": "python",
   "pygments_lexer": "ipython3",
   "version": "3.8.6"
  },
  "orig_nbformat": 2,
  "kernelspec": {
   "name": "python3",
   "display_name": "Python 3.8.6 32-bit",
   "metadata": {
    "interpreter": {
     "hash": "34cbdee7040262bc6c18953428dac54ba7345481b7d65b75d1d597bde34760d5"
    }
   }
  }
 },
 "nbformat": 4,
 "nbformat_minor": 2,
 "cells": [
  {
   "cell_type": "code",
   "execution_count": null,
   "metadata": {},
   "outputs": [],
   "source": [
    "# Latihan 1\n",
    "\n",
    "Berikan contoh comparison dari tipe data string\n",
    "Berikan contoh comparison dari tipe data boolean\n",
    "Berikan contoh comparison dari tipe data integer\n"
   ]
  },
  {
   "cell_type": "code",
   "execution_count": 12,
   "metadata": {},
   "outputs": [
    {
     "output_type": "stream",
     "name": "stdout",
     "text": [
      "kuda balap dengan zebra\nFalse\nTrue\numur perani 34 tahun\n"
     ]
    }
   ],
   "source": [
    "#string\n",
    "a = \"kuda\"\n",
    "b = \"zebra\"\n",
    "print(a ,\"balap dengan\",b)\n",
    "#boolean\n",
    "lomba = a > b\n",
    "print(lomba)\n",
    "lomba = a<b \n",
    "print(lomba)\n",
    "#integer\n",
    "a = 34\n",
    "print(\"umur perani\", a,)\n"
   ]
  },
  {
   "cell_type": "code",
   "execution_count": null,
   "metadata": {},
   "outputs": [],
   "source": [
    "# Latihan 2\n",
    "\n",
    "Berikan contoh gabungan multiple comparison menggunkan Boolean Comparisin 'and'\n",
    "Berikan contoh gabungan multiple comparison menggunkan Boolean Comparisin 'or'\n",
    "Berikan contoh gabungan multiple comparison menggunkan Boolean Comparisin 'not'\n"
   ]
  },
  {
   "cell_type": "code",
   "execution_count": 39,
   "metadata": {},
   "outputs": [
    {
     "output_type": "stream",
     "name": "stdout",
     "text": [
      "False\nFalse\nTrue\n"
     ]
    }
   ],
   "source": [
    "hasil = (5 > 6) and (10 <= 8)\n",
    "print(hasil)\n",
    " \n",
    "hasil = ('a' == 'b') or (10 <= 8)\n",
    "print(hasil)\n",
    " \n",
    "hasil = not (10 < 10)\n",
    "print(hasil)"
   ]
  },
  {
   "cell_type": "code",
   "execution_count": null,
   "metadata": {},
   "outputs": [],
   "source": [
    "# Latihan 3\n",
    "\n",
    "Lengkapi kode untuk menghasilkan suatu output yang di harapkan\n",
    "\n",
    "Bualah sebuah if-else statement yang dimana akan mem-print\n",
    " 'Besar' jika ruangan adalah 'Kamar'\n",
    "dan ukuran lebih dari 12, kemudian mem-print\n",
    " 'Sedang' jika ruangan adalah 'Kamar' \n",
    "dan ukuran lebih dari 6 dan memprint \n",
    " 'Kecil' jika ruangan adalah 'Kamar' \n",
    "dan ukuran ruangan lebih kecil dan sama dengan 6.\n"
   ]
  },
  {
   "cell_type": "code",
   "execution_count": 38,
   "metadata": {},
   "outputs": [
    {
     "output_type": "stream",
     "name": "stdout",
     "text": [
      "besar\n"
     ]
    }
   ],
   "source": [
    "nilai=int(input(\"ketik suatu angka dari luas sebuah kamar:\"))\n",
    "if (nilai >= 12) :\n",
    "    print(\"besar\")\n",
    "elif (nilai >= 6) :\n",
    "    print(\"sedang\")\n",
    "elif (nilai < 6) :\n",
    "    print(\"kecil\")\n",
    "else :\n",
    "    print(\"input salah\")"
   ]
  },
  {
   "cell_type": "code",
   "execution_count": null,
   "metadata": {},
   "outputs": [],
   "source": []
  }
 ]
}