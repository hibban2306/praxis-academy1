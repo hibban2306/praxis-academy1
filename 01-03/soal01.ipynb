{
 "metadata": {
  "language_info": {
   "codemirror_mode": {
    "name": "ipython",
    "version": 3
   },
   "file_extension": ".py",
   "mimetype": "text/x-python",
   "name": "python",
   "nbconvert_exporter": "python",
   "pygments_lexer": "ipython3",
   "version": "3.8.6-final"
  },
  "orig_nbformat": 2,
  "kernelspec": {
   "name": "python3",
   "display_name": "Python 3.8.6 32-bit",
   "metadata": {
    "interpreter": {
     "hash": "4af90f45c7792a747df031fcfb3e75fbadd5ecde1f96328d33556550aaa66aac"
    }
   }
  }
 },
 "nbformat": 4,
 "nbformat_minor": 2,
 "cells": [
  {
   "cell_type": "code",
   "execution_count": null,
   "metadata": {},
   "outputs": [],
   "source": [
    "# Latihan 1\n",
    "Buat suatu variabel a dan b, dimana a dan b adalah nilai bertipe data numeric\n",
    "Berikan suatu nilai bertipe data integer, hasil pembagian dari a dengan b\n",
    "Berikan suatu nilai bertipe data float, hasil pembagian dari a dengan b\n",
    "\n",
    "\n",
    "\n"
   ]
  },
  {
   "cell_type": "code",
   "execution_count": null,
   "metadata": {},
   "outputs": [],
   "source": [
    "a=1500\n",
    "b=1000\n",
    "a,b = (1500,1000)\n",
    "print(a/b = ',a/b)"
   ]
  },
  {
   "cell_type": "code",
   "execution_count": null,
   "metadata": {},
   "outputs": [],
   "source": [
    "masukan nama depan kamu kedalam suatu variable firstname\n",
    "masukan nama belakang kamu kedalam suatu variable lasname\n",
    "tampilkan suatu kalimat 'Hello Praxis, saya firstname lastname! saya siap belajar enterprise python developer.'\n",
    "\n"
   ]
  },
  {
   "cell_type": "code",
   "execution_count": null,
   "metadata": {},
   "outputs": [],
   "source": [
    "lengkapi code berikut\n",
    "p = 9.99999\n",
    "q = 'the number: '\n",
    "print(.....)\n",
    "\n",
    "jawaban the number : 9.99999"
   ]
  }
 ]
}